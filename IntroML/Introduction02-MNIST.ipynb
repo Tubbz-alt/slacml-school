{
 "cells": [
  {
   "cell_type": "markdown",
   "metadata": {},
   "source": [
    "# MNIST + MLP + CNN\n",
    "\n",
    "In this notebook, we design and train a Multi-Layer Perceptrons (MLP) and a Convolutional Neural Network (CNN) for hand-written digit classification task. We use MNIST dataset that contains 28x28 pixel images of a hand-written digit (0 to 9, so 10 classification targets). \n",
    "\n",
    "## Goals\n",
    "1. Get familiar with MNIST dataset\n",
    "2. Recap about DataLoader\n",
    "3. Design MLP and train on MNIST\n",
    "4. Design CNN and train on MNIST\n",
    "\n",
    "Let's start with usual import!"
   ]
  },
  {
   "cell_type": "code",
   "execution_count": 1,
   "metadata": {},
   "outputs": [],
   "source": [
    "import torch\n",
    "import numpy as np\n",
    "import matplotlib.pyplot as plt"
   ]
  },
  {
   "cell_type": "markdown",
   "metadata": {},
   "source": [
    "## 1. MNIST Dataset\n",
    "MNIST is widely used for an introductory machine learning (ML) courses/lectures. Most, if not all, ML libraries provide an easy way (API) to access MNIST and many publicly available dataset. This is true in `pytorch` as well. MNIST dataset in `Dataset` instance is available from `torchvision`. \n",
    "\n",
    "A `torchvision` is a supporting module that has many image-related APIs including an interface (and management) of MNIST dataset. Let's see how we can construct:"
   ]
  },
  {
   "cell_type": "code",
   "execution_count": 2,
   "metadata": {},
   "outputs": [],
   "source": [
    "from torchvision import datasets, transforms\n",
    "# Data file download directory\n",
    "LOCAL_DATA_DIR = './mnist-data'\n",
    "# Use prepared data handler from pytorch (torchvision)\n",
    "dataset = datasets.MNIST(LOCAL_DATA_DIR, train=True, download=True,\n",
    "                         transform=transforms.Compose([transforms.ToTensor()]))"
   ]
  },
  {
   "cell_type": "markdown",
   "metadata": {},
   "source": [
    "Here, MNIST is also a type `Dataset` (how? through class inheritance). All torch `Dataset` instance have tow useful and common functions: the length representations and data element access via index."
   ]
  },
  {
   "cell_type": "code",
   "execution_count": 3,
   "metadata": {},
   "outputs": [
    {
     "name": "stdout",
     "output_type": "stream",
     "text": [
      "60000\n",
      "<class 'tuple'>\n"
     ]
    }
   ],
   "source": [
    "print( len(dataset)  )\n",
    "print( type(dataset[0]) )"
   ]
  },
  {
   "cell_type": "markdown",
   "metadata": {},
   "source": [
    "That being said, how each data element is presented depends on a particular `Dataset` implementation. In case of MNIST, it is a tuple of length 2: **data** and **label**."
   ]
  },
  {
   "cell_type": "code",
   "execution_count": 4,
   "metadata": {},
   "outputs": [
    {
     "name": "stdout",
     "output_type": "stream",
     "text": [
      "Type of data  : <class 'torch.Tensor'> shape torch.Size([1, 28, 28])\n",
      "Type of label : <class 'int'> value 5\n"
     ]
    },
    {
     "data": {
      "image/png": "[encoded data removed]",
      "text/plain": [
       "<Figure size 432x288 with 1 Axes>"
      ]
     },
     "metadata": {
      "needs_background": "light"
     },
     "output_type": "display_data"
    }
   ],
   "source": [
    "ENTRY=0\n",
    "data, label = dataset[ENTRY]\n",
    "print('Type of data  :', type(data),  'shape', data.shape)\n",
    "print('Type of label :', type(label), 'value', label)\n",
    "\n",
    "import matplotlib.pyplot as plt\n",
    "%matplotlib inline\n",
    "\n",
    "# Draw data\n",
    "data = data.view(data.shape[1:])\n",
    "plt.imshow(data,cmap='gray')\n",
    "plt.show()"
   ]
  },
  {
   "cell_type": "markdown",
   "metadata": {},
   "source": [
    "## 2. Creating DataLoader\n",
    "Later (in this notebook), we will try a logistic regression using stochastic gradient descent. For this, we need a capability to randomly select a subset of dataset many times. This part is important: we want to maximize the time spent for training, not reading data and making it available for training.  \n",
    "\n",
    "Pytorch (and almost all ML libraries) provides a utility to do this so that you don't have to reinvent. This is called `DataLoader`, and here is how you can create."
   ]
  },
  {
   "cell_type": "code",
   "execution_count": 5,
   "metadata": {},
   "outputs": [],
   "source": [
    "#from kmi.iotools.collates import MNISTCollate\n",
    "\n",
    "loader = torch.utils.data.DataLoader(dataset,\n",
    "                                     batch_size=32,\n",
    "                                     shuffle=True,\n",
    "                                     num_workers=4,\n",
    "                                     pin_memory=False)\n"
   ]
  },
  {
   "cell_type": "markdown",
   "metadata": {},
   "source": [
    "#### Details (ignore if wished): `DataLoader` constructor arguments\n",
    "The first argument is you dataset, and it can be anything but requires two attributes: [`__len__`](https://docs.python.org/3/reference/datamodel.html#object.__len__) and [`__getitem__`](https://docs.python.org/3/reference/datamodel.html#object.__getitem__). In case you wonder, these attributes allow you to call `len(dataset)` and access dataset elements  by `dataset[X]` where `X` is an index integer.\n",
    "\n",
    "The other constructor arguments used above are:\n",
    "* `batch_size` ... the same of the subset data to be provided at once\n",
    "* `shuffle` ... whether or not to randomize the choice of subset dataset (False will provide dataset\n",
    "* `num_workers` ... number of parallel data-reader processes to be run (for making data read faster using `multiprocessing` module)\n",
    "* `pin_memory` ... speed up data transfer to GPU by avoiding a necessiry to copy data from pageable memory to page-locked (pinned) memory. Read [here](https://devblogs.nvidia.com/how-optimize-data-transfers-cuda-cc/) for more details. If you are not sure about the details, set to `True` when using GPU. \n",
    "\n",
    "## Data streaming with `DataLoader`\n",
    "So let's play with it! First of all, it has the concept of \"length\"."
   ]
  },
  {
   "cell_type": "code",
   "execution_count": 6,
   "metadata": {},
   "outputs": [
    {
     "name": "stdout",
     "output_type": "stream",
     "text": [
      "length of DataLoader: 1875\n",
      "By the way, batch size * length = 37500\n"
     ]
    }
   ],
   "source": [
    "print('length of DataLoader:',len(loader))\n",
    "print('By the way, batch size * length =', 20 * len(loader))"
   ]
  },
  {
   "cell_type": "markdown",
   "metadata": {},
   "source": [
    "We know the data total statistics is 60,000 which coincides with the length of `DataLoader` instance and the batch size where the latter is the unit of batch data. **Yep, as you guessed**, `DataLoader` is iterable: "
   ]
  },
  {
   "cell_type": "code",
   "execution_count": 7,
   "metadata": {},
   "outputs": [
    {
     "name": "stdout",
     "output_type": "stream",
     "text": [
      "Iteration 0\n",
      "tensor([0, 3, 7, 2, 3, 6, 7, 9, 7, 2, 4, 6, 4, 4, 5, 9, 2, 2, 6, 2, 1, 3, 8, 3,\n",
      "        8, 6, 0, 8, 7, 5, 5, 7])\n",
      "Iteration 1\n",
      "tensor([5, 4, 7, 6, 2, 2, 3, 0, 3, 6, 3, 1, 2, 4, 6, 3, 1, 4, 2, 9, 3, 7, 9, 7,\n",
      "        7, 6, 3, 9, 9, 4, 9, 6])\n",
      "Iteration 2\n",
      "tensor([3, 6, 7, 2, 3, 8, 8, 5, 4, 8, 2, 2, 2, 1, 9, 4, 9, 6, 5, 7, 6, 2, 0, 2,\n",
      "        4, 4, 4, 5, 6, 7, 8, 5])\n",
      "Iteration 3\n",
      "tensor([7, 7, 5, 5, 7, 1, 1, 8, 5, 7, 6, 4, 7, 1, 3, 1, 4, 4, 0, 7, 3, 9, 1, 0,\n",
      "        1, 2, 3, 6, 0, 2, 4, 5])\n",
      "Iteration 4\n",
      "tensor([5, 9, 8, 2, 7, 3, 1, 8, 7, 7, 1, 2, 8, 8, 9, 9, 5, 9, 2, 3, 8, 2, 5, 9,\n",
      "        4, 2, 2, 9, 7, 7, 1, 6])\n",
      "Iteration 5\n",
      "tensor([3, 4, 6, 8, 2, 9, 9, 4, 1, 4, 9, 4, 5, 9, 1, 2, 7, 4, 6, 5, 1, 6, 5, 9,\n",
      "        8, 9, 6, 7, 7, 2, 2, 1])\n",
      "Iteration 6\n",
      "tensor([9, 4, 2, 9, 9, 9, 0, 9, 6, 1, 8, 4, 3, 4, 0, 9, 6, 9, 9, 2, 2, 5, 6, 1,\n",
      "        6, 9, 2, 6, 6, 6, 3, 6])\n",
      "Iteration 7\n",
      "tensor([7, 8, 9, 6, 1, 3, 4, 6, 4, 6, 6, 7, 5, 7, 0, 9, 1, 8, 6, 6, 9, 1, 1, 3,\n",
      "        4, 9, 4, 4, 5, 6, 1, 6])\n",
      "Iteration 8\n",
      "tensor([0, 5, 7, 7, 6, 6, 5, 1, 5, 7, 2, 3, 6, 1, 4, 3, 9, 0, 0, 3, 2, 1, 1, 8,\n",
      "        8, 8, 0, 6, 6, 9, 2, 3])\n",
      "Iteration 9\n",
      "tensor([7, 0, 6, 1, 2, 5, 9, 1, 5, 2, 9, 7, 7, 9, 6, 7, 3, 2, 9, 4, 2, 6, 0, 9,\n",
      "        8, 2, 0, 6, 7, 9, 0, 4])\n"
     ]
    }
   ],
   "source": [
    "# Create an iterator for playin in this notebook\n",
    "from itertools import cycle\n",
    "iter = cycle(loader)\n",
    "\n",
    "for i in range(10):\n",
    "    batch = next(iter)    \n",
    "    print('Iteration',i)\n",
    "    print(batch[1])"
   ]
  },
  {
   "cell_type": "markdown",
   "metadata": {},
   "source": [
    "... and this is how `data` looks like:"
   ]
  },
  {
   "cell_type": "code",
   "execution_count": 8,
   "metadata": {},
   "outputs": [
    {
     "name": "stdout",
     "output_type": "stream",
     "text": [
      "Shape of an image batch data torch.Size([32, 1, 28, 28])\n"
     ]
    }
   ],
   "source": [
    "print('Shape of an image batch data',batch[0].shape)"
   ]
  },
  {
   "cell_type": "markdown",
   "metadata": {},
   "source": [
    "... which is quite naturally 20 of 28x28 image\n",
    "\n",
    "## 3. Logistic regression with MLP\n",
    "\n",
    "Let's try a logistic regression on this MNIST dataset. \n",
    "\n",
    "### Model definition\n",
    "We follow a similar approach we have taken in the previous notebook where we tried a logistic regression using 2-layers MLP with LeakyReLU activation function between two layers.  \n"
   ]
  },
  {
   "cell_type": "code",
   "execution_count": 9,
   "metadata": {},
   "outputs": [],
   "source": [
    "class MLP(torch.nn.Module):\n",
    "    def __init__(self, num_filters=16):\n",
    "        \n",
    "        super(MLP, self).__init__()\n",
    "        # MLP w/ 2 hidden layers, 128 neurons each\n",
    "        self._classifier = torch.nn.Sequential(\n",
    "            torch.nn.Linear(28*28, num_filters), \n",
    "            torch.nn.LeakyReLU(),\n",
    "            torch.nn.Linear(num_filters,10)\n",
    "        )\n",
    "\n",
    "    def forward(self, x):\n",
    "        # Make 2d image into 1D array\n",
    "        x_1d = x.view(-1, np.prod(x.size()[1:]))\n",
    "        return self._classifier(x_1d)"
   ]
  },
  {
   "cell_type": "markdown",
   "metadata": {},
   "source": [
    "\n",
    "### Train loop function\n",
    "Next, let's define a train loop function. This is also mostly copy-and-paste from the previous notebook. A small modification include an option to specify gpu v.s. cpu mode."
   ]
  },
  {
   "cell_type": "code",
   "execution_count": 10,
   "metadata": {},
   "outputs": [],
   "source": [
    "def train_torch(data_loader, model, num_iterations=100, lr=0.001, optimizer='SGD', gpu=False):\n",
    "    # Create a Binary-Cross-Entropy (BCE) loss module\n",
    "    criterion = torch.nn.CrossEntropyLoss()\n",
    "    # Create an optimizer\n",
    "    optimizer = getattr(torch.optim,optimizer)(model.parameters(),lr=lr)\n",
    "    # Now we run the training!\n",
    "    loss_v=[]\n",
    "    while num_iterations > 0:\n",
    "        for data,label in data_loader:\n",
    "            \n",
    "            if gpu:\n",
    "                data,label = data.cuda(),label.cuda()\n",
    "            # Prediction\n",
    "            prediction = model(data)\n",
    "            # Compute loss\n",
    "            loss = criterion(prediction, label)\n",
    "            # Update weights\n",
    "            optimizer.zero_grad()\n",
    "            loss.backward()\n",
    "            optimizer.step()\n",
    "            # Record loss\n",
    "            loss_v.append(loss.item())\n",
    "            # Brake if we consumed all iteration counts\n",
    "            num_iterations -= 1\n",
    "            if num_iterations < 1:\n",
    "                break\n",
    "        \n",
    "    return np.array(loss_v)"
   ]
  },
  {
   "cell_type": "markdown",
   "metadata": {},
   "source": [
    "### Train!\n",
    "\n",
    "Let's train for 4000 steps using Adam optimizer. Also, the number of filters is default = 16."
   ]
  },
  {
   "cell_type": "code",
   "execution_count": 11,
   "metadata": {},
   "outputs": [
    {
     "data": {
      "text/plain": [
       "[<matplotlib.lines.Line2D at 0x7ff670496390>]"
      ]
     },
     "execution_count": 11,
     "metadata": {},
     "output_type": "execute_result"
    },
    {
     "data": {
      "image/png": "[encoded data removed]",
      "text/plain": [
       "<Figure size 432x288 with 1 Axes>"
      ]
     },
     "metadata": {
      "needs_background": "light"
     },
     "output_type": "display_data"
    }
   ],
   "source": [
    "model_a = MLP()\n",
    "\n",
    "loss = train_torch(loader, model_a, 4000, optimizer='Adam')\n",
    "\n",
    "plt.plot(loss)\n"
   ]
  },
  {
   "cell_type": "markdown",
   "metadata": {},
   "source": [
    "That is a pretty large fluctuation! Often it's useful to look at a moothed loss curve by taking an average value with the neighbor data points. Let's try this."
   ]
  },
  {
   "cell_type": "code",
   "execution_count": 12,
   "metadata": {},
   "outputs": [],
   "source": [
    "# Compute moving average\n",
    "def moving_average(a, n=3) :\n",
    "    ret = np.cumsum(a, dtype=float)\n",
    "    ret[n:] = ret[n:] - ret[:-n]\n",
    "    return ret[n - 1:] / n"
   ]
  },
  {
   "cell_type": "code",
   "execution_count": 13,
   "metadata": {},
   "outputs": [
    {
     "name": "stdout",
     "output_type": "stream",
     "text": [
      "last 20 average 0.21011923551559447\n"
     ]
    },
    {
     "data": {
      "image/png": "[encoded data removed]",
      "text/plain": [
       "<Figure size 432x288 with 1 Axes>"
      ]
     },
     "metadata": {
      "needs_background": "light"
     },
     "output_type": "display_data"
    }
   ],
   "source": [
    "plt.plot(loss)\n",
    "plt.plot(moving_average(loss,20))\n",
    "print('last 20 average',np.mean(loss[-20:]))"
   ]
  },
  {
   "cell_type": "markdown",
   "metadata": {},
   "source": [
    "### Exercise 1\n",
    "\n",
    "1. Repeat the same training for `model_b` = `MLP` with 32 filters. \n",
    "2. Plot the loss curve with 20 neighbor-points average.\n",
    "3. Compare the los value of the last 20 steps against the `model_a`. "
   ]
  },
  {
   "cell_type": "code",
   "execution_count": 14,
   "metadata": {},
   "outputs": [
    {
     "name": "stdout",
     "output_type": "stream",
     "text": [
      "last 20 average 0.21024020202457905\n"
     ]
    },
    {
     "data": {
      "image/png": "[encoded data removed]",
      "text/plain": [
       "<Figure size 432x288 with 1 Axes>"
      ]
     },
     "metadata": {
      "needs_background": "light"
     },
     "output_type": "display_data"
    }
   ],
   "source": [
    "# your code here"
   ]
  },
  {
   "cell_type": "markdown",
   "metadata": {},
   "source": [
    "### Exercise 2\n",
    "\n",
    "1. Repeat the exercise 1 and measure how long it takes in wall-time.\n",
    "2. Repeat again, but this time with GPU enabled, and measure how long it takes.\n",
    "\n",
    "You probably see a very similar amount of time taken for both cases. This is because parallelizable fraction of computation is not dominating in the overall computing time (and especially when most time may be taken to copy data onto gpu)."
   ]
  },
  {
   "cell_type": "code",
   "execution_count": 15,
   "metadata": {},
   "outputs": [
    {
     "name": "stdout",
     "output_type": "stream",
     "text": [
      "With GPU 15.420133113861084\n",
      "With CPU 17.030401945114136\n"
     ]
    }
   ],
   "source": [
    "# your code here"
   ]
  },
  {
   "cell_type": "markdown",
   "metadata": {},
   "source": [
    "### Running on test dataset\n",
    "Both models seem to be trained OK. Let's benchmark their performance using the test dataset! Pytorch provides 10,000 MNIST dataset that is separate from the training set by simply setting the flag `train=False`."
   ]
  },
  {
   "cell_type": "code",
   "execution_count": 16,
   "metadata": {},
   "outputs": [],
   "source": [
    "# Use prepared data handler from pytorch (torchvision)\n",
    "test_dataset = datasets.MNIST(LOCAL_DATA_DIR, train=False, download=True,\n",
    "                              transform=transforms.Compose([transforms.ToTensor()]))\n",
    "\n",
    "test_loader = torch.utils.data.DataLoader(test_dataset,\n",
    "                                          batch_size=32,\n",
    "                                          shuffle=False,\n",
    "                                          num_workers=4,\n",
    "                                          pin_memory=False)"
   ]
  },
  {
   "cell_type": "markdown",
   "metadata": {},
   "source": [
    "### Inference loop function\n",
    "\n",
    "Let's now write a function to run the inference. This would be similar to the training loop. A key difference is to use a scope `with torch.set_grad_enabled(False)` which disables gradient calculation and caching of intermediate data for it. This results in less memory usage, so you should do this when you run your model for inference and not training."
   ]
  },
  {
   "cell_type": "code",
   "execution_count": 17,
   "metadata": {},
   "outputs": [],
   "source": [
    "def run_test(model,loader,gpu=False):\n",
    "\n",
    "    from scipy.special import softmax\n",
    "\n",
    "    prediction_v = []\n",
    "    label_v      = []\n",
    "    softmax_v    = []\n",
    "    \n",
    "    with torch.set_grad_enabled(False):\n",
    "        idx=0\n",
    "        for data,label in loader:\n",
    "            if gpu:\n",
    "                data,label = data.cuda(), label.cuda()\n",
    "            prediction   = model(data).cpu().numpy()\n",
    "            prediction_v.append ( np.argmax(prediction,axis=1)    )\n",
    "            label_v.append      ( label.cpu().numpy().reshape(-1) )\n",
    "            s = softmax(prediction,axis=1)\n",
    "            softmax_v.append    (s)\n",
    "            idx +=1\n",
    "    return np.concatenate(prediction_v), np.concatenate(label_v), np.concatenate(softmax_v)"
   ]
  },
  {
   "cell_type": "markdown",
   "metadata": {},
   "source": [
    "### Exercise 3\n",
    "1. Run the inference for `model_a` and `model_b`.\n",
    "2. Using the results, compute the accuracy over the whole test dataset for both models."
   ]
  },
  {
   "cell_type": "code",
   "execution_count": 18,
   "metadata": {},
   "outputs": [
    {
     "name": "stdout",
     "output_type": "stream",
     "text": [
      "model_a 0.9321\n",
      "model_b 0.9444\n"
     ]
    }
   ],
   "source": [
    "# your code here"
   ]
  },
  {
   "cell_type": "markdown",
   "metadata": {},
   "source": [
    "### Exercise 4\n",
    "\n",
    "1. Count the number of parameters in our `model_a`\n",
    "2. How about `model_b`?\n"
   ]
  },
  {
   "cell_type": "code",
   "execution_count": 19,
   "metadata": {},
   "outputs": [
    {
     "name": "stdout",
     "output_type": "stream",
     "text": [
      "model_a 12730 parameters\n",
      "model_b 25450 parameters\n"
     ]
    }
   ],
   "source": [
    "# your code here"
   ]
  },
  {
   "cell_type": "markdown",
   "metadata": {},
   "source": [
    "## 4. Logistic regression with CNN\n",
    "\n",
    "Next, we design CNN to try the same task. Let's define 3 convolution layers followed by LeakyReLU for activation and MaxPool2d for downsampling."
   ]
  },
  {
   "cell_type": "code",
   "execution_count": 20,
   "metadata": {},
   "outputs": [],
   "source": [
    "class CNN(torch.nn.Module):\n",
    "    def __init__(self,num_filters=16):\n",
    "        \n",
    "        super(CNN, self).__init__()\n",
    "        # feature extractor CNN\n",
    "        self._feature_extractor = torch.nn.Sequential(\n",
    "            torch.nn.Conv2d(1,num_filters,3,padding=1),\n",
    "            torch.nn.LeakyReLU(),\n",
    "            torch.nn.MaxPool2d(2,2),\n",
    "            torch.nn.Conv2d(num_filters,num_filters*2,3,padding=1),\n",
    "            torch.nn.LeakyReLU(),\n",
    "            torch.nn.MaxPool2d(2,2),\n",
    "            torch.nn.Conv2d(num_filters*2,num_filters*4,3,padding=1),\n",
    "            torch.nn.LeakyReLU(),\n",
    "            torch.nn.MaxPool2d(7,7))\n",
    "        # classifier MLP\n",
    "        self._classifier = torch.nn.Linear(num_filters*4,10)\n",
    "\n",
    "    def forward(self, x):\n",
    "        # extract features\n",
    "        features = self._feature_extractor(x)\n",
    "        # flatten the 3d tensor (2d space x channels = features)\n",
    "        features = features.view(-1, np.prod(features.size()[1:]))\n",
    "        # classify and return\n",
    "        return self._classifier(features)"
   ]
  },
  {
   "cell_type": "markdown",
   "metadata": {},
   "source": [
    "### Exercise 5\n",
    "\n",
    "Now let's train this CNN model!\n",
    "\n",
    "1. Train CNN for 4000 iterations with `Adam` optimizer on CPU, measure the time taken in wall-clock, plot the loss.\n",
    "2. Do the same but using GPU.\n"
   ]
  },
  {
   "cell_type": "code",
   "execution_count": 21,
   "metadata": {},
   "outputs": [
    {
     "name": "stdout",
     "output_type": "stream",
     "text": [
      "CPU: 86.25612664222717 [s]\n",
      "GPU: 17.39392590522766 [s]\n",
      "last 20 average 0.05249731121584773\n"
     ]
    },
    {
     "data": {
      "image/png": "[encoded data removed]",
      "text/plain": [
       "<Figure size 432x288 with 1 Axes>"
      ]
     },
     "metadata": {
      "needs_background": "light"
     },
     "output_type": "display_data"
    }
   ],
   "source": [
    "# your code here"
   ]
  },
  {
   "cell_type": "markdown",
   "metadata": {},
   "source": [
    "You should see that, this time, GPU gave a good speed-up. This is because CNN takes many separate multiplications of weights with input local matrix, and that can benefit from parallelization = GPU is suited.\n",
    "\n",
    "### Exercise 6\n",
    "\n",
    "Run the inference on the test dataset. Compute the accuracy over the all images in the test dataset."
   ]
  },
  {
   "cell_type": "code",
   "execution_count": 22,
   "metadata": {},
   "outputs": [
    {
     "name": "stdout",
     "output_type": "stream",
     "text": [
      "model_c 0.987\n"
     ]
    }
   ],
   "source": [
    "# your code here"
   ]
  },
  {
   "cell_type": "markdown",
   "metadata": {},
   "source": [
    "### Exercise 7\n",
    "How many parameters are there in our CNN model?"
   ]
  },
  {
   "cell_type": "code",
   "execution_count": 23,
   "metadata": {},
   "outputs": [
    {
     "name": "stdout",
     "output_type": "stream",
     "text": [
      "23946\n"
     ]
    }
   ],
   "source": [
    "# your code here"
   ]
  }
 ],
 "metadata": {
  "kernelspec": {
   "display_name": "Python 3",
   "language": "python",
   "name": "python3"
  },
  "language_info": {
   "codemirror_mode": {
    "name": "ipython",
    "version": 3
   },
   "file_extension": ".py",
   "mimetype": "text/x-python",
   "name": "python",
   "nbconvert_exporter": "python",
   "pygments_lexer": "ipython3",
   "version": "3.6.9"
  }
 },
 "nbformat": 4,
 "nbformat_minor": 4
}
